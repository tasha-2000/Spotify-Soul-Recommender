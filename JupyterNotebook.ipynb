{
 "cells": [
  {
   "cell_type": "markdown",
   "id": "63a156e3-9744-462a-b25e-7bec61c0c59e",
   "metadata": {},
   "source": [
    "# Spotify Soul Recommender Jupyter Notebook\r\n",
    "\r\n",
    "## Introduction\r\n",
    "\r\n",
    "The Spotify Soul Recommender is a machine learning project designed to curate a personalized playlist of soulful songs based on a user's existing favorite tracks. By analyzing the genres and features of the songs a user enjoys, the project identifies and recommends soulful tracks that align with their musical preferences. The goal is to enhance the user's listening experience by introducing them to new songs that fit the vibe of contemporary R&B, lofi, soul, jazz, and similar genres.\r\n",
    "\r\n",
    "## Setup\r\n",
    "\r\n",
    "### Requirements\r\n",
    "- Python 3.8+\r\n",
    "- Spotipy\r\n",
    "- Pandas\r\n",
    "- Scikit-learn (for the machine learning model)\r\n",
    "- Your Spotify AP`\r\n",
    "\r\n",
    "This notebook provides a comprehensive overview and guide for setting up and running the Spotify Soul Recommender project. It combines explanations with executable code snippets for a hands-on experience. Remember to replace placeholders with actual data and credentials before running the code."
   ]
  },
  {
   "cell_type": "markdown",
   "id": "f2f53ed2-6982-4517-b716-d4e5539c29dc",
   "metadata": {},
   "source": [
    "### 1. Clone the Repository"
   ]
  },
  {
   "cell_type": "code",
   "execution_count": null,
   "id": "7e1dc861-908c-43be-a596-369c77f788e5",
   "metadata": {},
   "outputs": [],
   "source": [
    "git clone https://github.com/tasha-2000/Spotify-Soul-Recommender.git\n",
    "cd Spotify-Soul-Recommender"
   ]
  },
  {
   "cell_type": "markdown",
   "id": "b5e5469e-26e4-4a85-8858-5bc7ff32076b",
   "metadata": {},
   "source": [
    "### 2. Install Dependencies\n",
    "\n",
    "Make sure you have Python 3.8 or higher installed. Then run each install command one by one:"
   ]
  },
  {
   "cell_type": "code",
   "execution_count": null,
   "id": "ae8875a2-2e1f-4938-b6eb-80344714330b",
   "metadata": {},
   "outputs": [],
   "source": [
    "pip install spotipy\n",
    "pip install pandas\n",
    "pip install scikit-learn\n",
    "pip install imblearn"
   ]
  },
  {
   "cell_type": "markdown",
   "id": "74224d11-ad4b-483d-bc29-7925e284d5d5",
   "metadata": {},
   "source": [
    "### Configure Spotify API Credentials\n",
    "\n",
    "To use the Spotify API, you need to set up your Spotify API credentials. Replace the placeholders with your actual credentials in the file credentials.py"
   ]
  },
  {
   "cell_type": "code",
   "execution_count": null,
   "id": "9f1260aa-199a-4084-b3e3-0e284e34cfa4",
   "metadata": {},
   "outputs": [],
   "source": [
    "clientId= 'your_spotify_client_id'\n",
    "clientSecret= 'your_spotify_client_secret'\n",
    "redirectUri= 'your_app_redirect_uri'\n",
    "username= 'your_spotify_username'"
   ]
  },
  {
   "cell_type": "markdown",
   "id": "00b06ff3-d138-4b0a-a1d0-d8b1663cb535",
   "metadata": {},
   "source": [
    "## Data Collection\n",
    "\n",
    "Data is collected from Spotify using the Spotipy library. Here is a snippet of code to initialize the Spotify client:"
   ]
  },
  {
   "cell_type": "code",
   "execution_count": 6,
   "id": "09a3777e-763f-4455-876c-3817060e136d",
   "metadata": {},
   "outputs": [],
   "source": [
    "import spotipy\n",
    "from spotipy.oauth2 import SpotifyOAuth\n",
    "import credentials\n",
    "\n",
    "def SetUpSpotifyClient():\n",
    "    \"\"\"\n",
    "    Initializes and returns a Spotify client using OAuth.\n",
    "    \"\"\"\n",
    "    scope= 'user-top-read playlist-modify-private playlist-modify-public user-library-read user-top-read'\n",
    "    return spotipy.Spotify(auth_manager=SpotifyOAuth(client_id=credentials.clientId,\n",
    "                                                     client_secret=credentials.clientSecret,\n",
    "                                                     redirect_uri=credentials.redirectUri,\n",
    "                                                     scope=scope))"
   ]
  },
  {
   "cell_type": "markdown",
   "id": "0adaa77c-034b-48f9-8dc2-83b08347fe14",
   "metadata": {},
   "source": [
    "There are two sets of data collected:\n",
    "\n",
    "1. Soulful tracks directly from Spotify offcial playlists\n",
    "2. The users favorite soulful tracks\n",
    "\n",
    "In the context of my project, a track is considered to be 'soulful' if it's genres contain any one of these keywords:"
   ]
  },
  {
   "cell_type": "code",
   "execution_count": 19,
   "id": "0d387779-411e-40ff-bdf4-5ff6820dc890",
   "metadata": {},
   "outputs": [],
   "source": [
    "keywords = {'contemporary', 'r&b', 'lofi', 'soul', 'jazz', 'neo soul', 'blues', 'chillwave', 'lo-fi', 'chill', 'soul'}"
   ]
  },
  {
   "cell_type": "markdown",
   "id": "aa4666ef-ccbd-479e-b214-e7e31a729087",
   "metadata": {},
   "source": [
    "### Soulful tracks from Spotify official playlist\n",
    "\n",
    "The process involves searching for 50 playlists that match specific soulful genres (i.e the names of the playlist contain any of those key words) and extracting the first 50 track IDs from each of these playlists. This code snippet demonstrates how that is done:"
   ]
  },
  {
   "cell_type": "code",
   "execution_count": 17,
   "id": "daaf545a-ecf3-4e03-86c8-a2896519199f",
   "metadata": {},
   "outputs": [],
   "source": [
    "# Function to find Spotify official playlists with soulful genres\n",
    "def FindSoulfulPlaylists(sp, keywords):\n",
    "    playlistIds= set()\n",
    "    for keyword in keywords:\n",
    "        results= sp.search(q=f'\"{keyword}\"', type='playlist', limit=50)\n",
    "        for playlist in results['playlists']['items']:\n",
    "            if 'spotify'in playlist['owner']['id']:\n",
    "                            playlistIds.add(playlist['id'])\n",
    "            return playlistIds\n",
    "    \n",
    "    # Function to get tracks from playlistsdef GetTracksFromPlaylist(sp, playlistIds):\n",
    "        trackIds= []\n",
    "    for playlistId in playlistIds:\n",
    "            results= sp.playlist_items(playlistId, limit=50, fields='items.track.id')\n",
    "            trackIds.extend([item['track']['id']for item in results['items']if item['track']])\n",
    "    return trackIds"
   ]
  },
  {
   "cell_type": "markdown",
   "id": "d43b7c18-e30e-4390-b2b2-9d290432abea",
   "metadata": {},
   "source": [
    "### The user's favorite soulful tracks\n",
    "\n",
    "This works by searching for tracks that match the specified genres within the user's top 50 tracks:"
   ]
  },
  {
   "cell_type": "code",
   "execution_count": 18,
   "id": "b1ce2572-6f98-49e1-be61-dcce9c70816a",
   "metadata": {},
   "outputs": [],
   "source": [
    "# Function to find soulful tracks in the user's library\n",
    "def FindSoulfulTracks(sp):\n",
    "    keywords = {'contemporary', 'r&b', 'lofi', 'soul', 'jazz', 'neo', 'blue', 'chillwave', 'lo-fi', 'chill', 'soul'}\n",
    "    results = sp.current_user_top_tracks(limit=50, time_range='long_term')\n",
    "    trackIds = []\n",
    "\n",
    "    for item in results['items']:\n",
    "        artistIds = [artist['id'] for artist in item['artists']]\n",
    "        isMatch = False\n",
    "        for artistId in artistIds:\n",
    "            artistInfo = sp.artist(artistId)\n",
    "            if 'genres' in artistInfo and any(keyword in genre for keyword in keywords for genre in artistInfo['genres']):\n",
    "                isMatch = True\n",
    "                break\n",
    "        if isMatch:\n",
    "            trackIds.append(item['id'])\n",
    "    return trackIds"
   ]
  },
  {
   "cell_type": "markdown",
   "id": "02932834-b006-4e92-88ab-4f9263aff748",
   "metadata": {},
   "source": [
    "## Data Processing\n",
    "\n",
    "After collecting the data, both data sets are processed to extract relevant features from each track. This includes audio features like danceability, energy, key, loudness, and more. This information is used to build two datasets `reccomendations_library.csv` and `user_favs.csv' for model training."
   ]
  },
  {
   "cell_type": "code",
   "execution_count": null,
   "id": "c882a910-44b0-4667-92bf-a2b72fbe2b42",
   "metadata": {},
   "outputs": [],
   "source": [
    "# Function to get track features\n",
    "def GetTrackFeatures(sp, trackId):\n",
    "    meta = sp.track(trackId)\n",
    "    features = sp.audio_features(trackId)\n",
    "    \n",
    "    if features:\n",
    "        trackInfo = {\n",
    "            'trackId': trackId,\n",
    "            'name': meta['name'],\n",
    "            'album': meta['album']['name'],\n",
    "            'artist': meta['album']['artists'][0]['name'],\n",
    "            'releaseDate': meta['album']['release_date'],\n",
    "            'length': meta['duration_ms'],\n",
    "            'popularity': meta['popularity'],\n",
    "            'acousticness': features[0]['acousticness'],\n",
    "            'danceability': features[0]['danceability'],\n",
    "            'energy': features[0]['energy'],\n",
    "            'instrumentalness': features[0]['instrumentalness'],\n",
    "            'liveness': features[0]['liveness'],\n",
    "            'loudness': features[0]['loudness'],\n",
    "            'speechiness': features[0]['speechiness'],\n",
    "            'tempo': features[0]['tempo'],\n",
    "            'timeSignature': features[0]['time_signature']\n",
    "        }\n",
    "        return trackInfo\n",
    "    else:\n",
    "        print(f\"Features not found for track ID: {trackId}\")\n",
    "        return None\n"
   ]
  },
  {
   "cell_type": "markdown",
   "id": "2daf576d-a4ce-4ceb-b369-025f299a8ef3",
   "metadata": {},
   "source": [
    "##EDA\n",
    "Once I got all my features I did a quick EDA of the data. \n",
    "I created box plots to compare the distribution of data for different features between User Favorites and None Favorites"
   ]
  },
  {
   "cell_type": "markdown",
   "id": "231d3489-aa14-4195-8540-065d6085d747",
   "metadata": {},
   "source": [
    "### Acousticness\n",
    "![Acousticness Comparison](.\\ImagesJupyterNotebook\\Acousticness.png)"
   ]
  },
  {
   "cell_type": "markdown",
   "id": "7673d8e9-c91d-48e5-a60a-42dd57091eda",
   "metadata": {},
   "source": [
    "### Energy\n",
    "![Energy Comparison](./ImagesJupyterNotebook/Energy.png)\n",
    "\n",
    "### Instrumentalness\n",
    "![Instrumental Comparison](./ImagesJupyterNotebook/Instrumentals.png)\n",
    "\n",
    "### Liveliness\n",
    "![Liveliness Comparison](./ImagesJupyterNotebook/liveliness.png)\n",
    "\n",
    "### Loudness\n",
    "![Loudness Comparison](./ImagesJupyterNotebook/loudness.png)\n",
    "\n",
    "### Speechiness\n",
    "![Speechiness Comparison](./ImagesJupyterNotebook/speechiness.png)\n",
    "\n",
    "### Tempo\n",
    "![Tempo Comparison](./ImagesJupyterNotebook/Tempo.png)\n"
   ]
  },
  {
   "cell_type": "markdown",
   "id": "d6c220d8-fd83-4339-92d2-7f7aac6e1831",
   "metadata": {},
   "source": [
    "Once this was done. I addeed a favorite field which represented wether or not the user liked the song: 1 = favorite 0 = non favorite\n",
    "\n",
    "I combined both datasets into one dataset and addressed the imbalance between Favorites: Non Favorites using SMOTE. The initial ratio was 28: 7436.\n",
    "\n",
    "I also removed all of the non-numerical feilds and focused on using these feilds to predict the reccomendations:"
   ]
  },
  {
   "cell_type": "code",
   "execution_count": 28,
   "id": "85d4b3b7-dd88-4777-89fd-a4a2e4db8fe6",
   "metadata": {},
   "outputs": [],
   "source": [
    " numericFields = ['length', 'popularity', 'danceability', 'acousticness', 'energy', 'instrumentalness', 'liveness', 'loudness', 'speechiness', 'tempo', 'timeSignature', 'favorite']"
   ]
  },
  {
   "cell_type": "markdown",
   "id": "da9d5ac2-e307-409f-a0f8-9521f94a3b92",
   "metadata": {},
   "source": [
    "Then I split this dataset into 80% training data and 20% test data. (I removed the favorite field from the test data)\n",
    "\n",
    "Here is a summary of the datasets:"
   ]
  },
  {
   "cell_type": "code",
   "execution_count": 23,
   "id": "c434b1a9-3cdd-4690-9189-43ed4610b072",
   "metadata": {},
   "outputs": [
    {
     "name": "stdout",
     "output_type": "stream",
     "text": [
      "<class 'pandas.core.frame.DataFrame'>\n",
      "RangeIndex: 1497 entries, 0 to 1496\n",
      "Data columns (total 11 columns):\n",
      " #   Column            Non-Null Count  Dtype  \n",
      "---  ------            --------------  -----  \n",
      " 0   length            1497 non-null   int64  \n",
      " 1   popularity        1497 non-null   int64  \n",
      " 2   danceability      1497 non-null   float64\n",
      " 3   acousticness      1497 non-null   float64\n",
      " 4   energy            1497 non-null   float64\n",
      " 5   instrumentalness  1497 non-null   float64\n",
      " 6   liveness          1497 non-null   float64\n",
      " 7   loudness          1497 non-null   float64\n",
      " 8   speechiness       1497 non-null   float64\n",
      " 9   tempo             1497 non-null   float64\n",
      " 10  timeSignature     1497 non-null   int64  \n",
      "dtypes: float64(8), int64(3)\n",
      "memory usage: 128.8 KB\n",
      "None\n"
     ]
    }
   ],
   "source": [
    "import pandas as pd\n",
    "testDataDf = pd.read_csv('test_data.csv')\n",
    "print(testDataDf.info())"
   ]
  },
  {
   "cell_type": "code",
   "execution_count": 24,
   "id": "f019c988-52f6-4c25-b321-d882232de1c8",
   "metadata": {},
   "outputs": [
    {
     "name": "stdout",
     "output_type": "stream",
     "text": [
      "<class 'pandas.core.frame.DataFrame'>\n",
      "RangeIndex: 11938 entries, 0 to 11937\n",
      "Data columns (total 12 columns):\n",
      " #   Column            Non-Null Count  Dtype  \n",
      "---  ------            --------------  -----  \n",
      " 0   length            11938 non-null  int64  \n",
      " 1   popularity        11938 non-null  int64  \n",
      " 2   danceability      11938 non-null  float64\n",
      " 3   acousticness      11938 non-null  float64\n",
      " 4   energy            11938 non-null  float64\n",
      " 5   instrumentalness  11938 non-null  float64\n",
      " 6   liveness          11938 non-null  float64\n",
      " 7   loudness          11938 non-null  float64\n",
      " 8   speechiness       11938 non-null  float64\n",
      " 9   tempo             11938 non-null  float64\n",
      " 10  timeSignature     11938 non-null  int64  \n",
      " 11  favorite          11938 non-null  int64  \n",
      "dtypes: float64(8), int64(4)\n",
      "memory usage: 1.1 MB\n",
      "None\n"
     ]
    }
   ],
   "source": [
    "import pandas as pd\n",
    "trainingDf = pd.read_csv('training_data.csv')\n",
    "print(trainingDf.info())"
   ]
  },
  {
   "cell_type": "code",
   "execution_count": 25,
   "id": "a4b97fa1-8322-48e9-8830-62784e95c445",
   "metadata": {},
   "outputs": [
    {
     "name": "stdout",
     "output_type": "stream",
     "text": [
      "              length    popularity  danceability  acousticness        energy  \\\n",
      "count   11938.000000  11938.000000  11938.000000  11938.000000  11938.000000   \n",
      "mean   206002.036438     57.272826      0.557962      0.492555      0.456370   \n",
      "std     65758.982874     15.300882      0.263681      0.218605      0.185388   \n",
      "min     42640.000000      0.000000      0.000008      0.000000      0.000072   \n",
      "25%    167374.500000     49.000000      0.424077      0.311000      0.373000   \n",
      "50%    192659.000000     60.000000      0.598890      0.509145      0.461505   \n",
      "75%    239024.500000     68.000000      0.727636      0.667488      0.557781   \n",
      "max    732553.000000    100.000000      0.996000      0.981000      0.990000   \n",
      "\n",
      "       instrumentalness      liveness      loudness   speechiness  \\\n",
      "count      11938.000000  11938.000000  11938.000000  11938.000000   \n",
      "mean           0.171020      0.163073    -10.326944      0.107826   \n",
      "std            0.312735      0.109306      5.519599      0.097050   \n",
      "min            0.000000      0.028000    -49.011000      0.000000   \n",
      "25%            0.000027      0.104000    -10.969038      0.045400   \n",
      "50%            0.005050      0.126000     -8.967182      0.068746   \n",
      "75%            0.097000      0.178968     -7.498250      0.141000   \n",
      "max            0.989000      0.995000     -0.504000      0.883000   \n",
      "\n",
      "              tempo  timeSignature      favorite  \n",
      "count  11938.000000   11938.000000  11938.000000  \n",
      "mean     115.183043       3.922851      0.500000  \n",
      "std       28.332381       0.383756      0.500021  \n",
      "min        0.000000       0.000000      0.000000  \n",
      "25%       90.927500       4.000000      0.000000  \n",
      "50%      113.482000       4.000000      0.500000  \n",
      "75%      137.362646       4.000000      1.000000  \n",
      "max      235.829000       5.000000      1.000000  \n"
     ]
    }
   ],
   "source": [
    "import pandas as pd\n",
    "trainingDf = pd.read_csv('training_data.csv')\n",
    "print(trainingDf.describe())"
   ]
  },
  {
   "cell_type": "markdown",
   "id": "d99eb4be-64bb-4247-adbd-49edb3043dba",
   "metadata": {},
   "source": [
    "## Model Building\n",
    "\n",
    "After researching on the performances of different models for similar projects, I concluded that a classification model, specicially a descion tree model would be the best approach. It was proven to have the highest F1 score as compared to a Linear Regression Model and a Random Classifier Model. I also attempted to apraoch this as a clustering problem using KMeans however, the model had very low accuracy. The `model.py` file includes code for training a model using the scikit-learn library.\n",
    "\n",
    "Here is some data on the accuracy of the model after training:"
   ]
  },
  {
   "cell_type": "raw",
   "id": "57a11775-6ba5-480e-8595-1cdb173d8c10",
   "metadata": {},
   "source": [
    "Accuracy: 98.95%\n",
    "\n",
    "Classification Report:\n",
    "               precision    recall  f1-score   support\n",
    "\n",
    "           0       0.99      0.99      0.99      1222\n",
    "           1       0.99      0.99      0.99      1166\n",
    "\n",
    "    accuracy                           0.99      2388\n",
    "   macro avg       0.99      0.99      0.99      2388\n",
    "weighted avg       0.99      0.99      0.99      2388"
   ]
  },
  {
   "cell_type": "markdown",
   "id": "902897d2-44a5-4f87-b1b9-7f5b06f70def",
   "metadata": {},
   "source": [
    "## Recommendation Logic\n",
    "\n",
    "The recommendation logic uses the trained model to predict wether or not the user will like a song for a new set of songs. Based on the prediction, it recommends 10 songs that the user is likely to enjoy."
   ]
  },
  {
   "cell_type": "code",
   "execution_count": 33,
   "id": "33976e5f-3fb2-412d-8cf3-019a80665f9e",
   "metadata": {},
   "outputs": [],
   "source": [
    "# Function to recommend based on the trained model\n",
    "def Recommend(testDataDf, clfModel):\n",
    "    probabilities = clfModel.predict_proba(testDataDf)[:, 1]\n",
    "    testDataDf['predictedFavoriteProbability'] = probabilities\n",
    "    sortedTestDataDf = testDataDf.sort_values(by='predictedFavoriteProbability', ascending=False)\n",
    "    top10Recommendations = sortedTestDataDf.head(10)\n",
    "    sortedTestDataDf.head(10).to_csv('recs.csv')\n",
    "    DeleteFirstFieldAndSave('recs.csv', 'recs.csv')\n",
    "    return top10Recommendations"
   ]
  },
  {
   "cell_type": "code",
   "execution_count": null,
   "id": "093bd111-0d1f-4dae-a312-a6b5c57c48f8",
   "metadata": {},
   "outputs": [],
   "source": [
    "      length  popularity  danceability  acousticness  energy  instrumentalness  liveness  loudness  speechiness    tempo  timeSignature  predictedFavoriteProbability\n",
    "301   201233          54         0.831        0.5280   0.401          0.001690    0.1400    -9.662       0.1000   77.430              4                           1.0\n",
    "1201  219945          71         0.620        0.7290   0.456          0.000133    0.0919    -6.795       0.0528  110.999              4                           1.0\n",
    "1427  247133          48         0.633        0.3920   0.550          0.000052    0.1130    -7.396       0.0937   87.501              4                           1.0\n",
    "881   233107          45         0.687        0.5270   0.391          0.235000    0.3970   -10.210       0.1530  146.754              4                           1.0\n",
    "682   114001          63         0.624        0.3770   0.396          0.041500    0.0710   -10.194       0.0728   92.001              3                           1.0\n",
    "368   185617          59         0.601        0.2730   0.554          0.014500    0.1840   -10.849       0.0982  151.971              4                           1.0\n",
    "997    69741          46         0.880        0.4710   0.229          0.022800    0.2570   -11.711       0.0350   80.990              4                           1.0\n",
    "1174  295530          38         0.794        0.3900   0.277          0.000017    0.2070   -12.048       0.0402  109.965              4                           1.0\n",
    "942   200760          69         0.681        0.0477   0.608          0.000000    0.2250    -6.093       0.2070   97.934              4                           1.0"
   ]
  },
  {
   "cell_type": "markdown",
   "id": "95709e47-4845-4c12-bc92-141c2b4e9864",
   "metadata": {},
   "source": [
    "This is cross refenced with the combined dataset combined.csv to find the track IDs and create the playlist."
   ]
  },
  {
   "cell_type": "code",
   "execution_count": null,
   "id": "32a6766f-3ff6-4193-b726-ae83e965f8a4",
   "metadata": {},
   "outputs": [],
   "source": [
    " trackIDs= model.FindMatch('recs.csv', 'combined_data.csv')\n",
    "    print(trackIDs)\n",
    "\n",
    "    createPlaylist(sp, 'Spotify Soul', 'Testing Out My Recommender',trackIDs)"
   ]
  },
  {
   "cell_type": "markdown",
   "id": "bbe18b1b-7d00-489e-a9d6-46fc5b3a7cbc",
   "metadata": {},
   "source": [
    "Image of the results:\n",
    "![Spotify Results](.\\ImagesJupyterNotebook\\SpotifyResults.PNG \"Spotify Soul Playlist\")"
   ]
  },
  {
   "cell_type": "markdown",
   "id": "8d91fc53-a493-42b3-9381-44943e5b234d",
   "metadata": {},
   "source": [
    "## Conclusion\n",
    "\n",
    "The Spotify Soul Recommender project offers a personalized way to discover new soulful music tailored to a user's taste. Future improvements could include refining the model for better accuracy, expanding the dataset for a wider variety of songs, and incorporating user feedback to improve recommendations."
   ]
  }
 ],
 "metadata": {
  "kernelspec": {
   "display_name": "Python 3 (ipykernel)",
   "language": "python",
   "name": "python3"
  },
  "language_info": {
   "codemirror_mode": {
    "name": "ipython",
    "version": 3
   },
   "file_extension": ".py",
   "mimetype": "text/x-python",
   "name": "python",
   "nbconvert_exporter": "python",
   "pygments_lexer": "ipython3",
   "version": "3.12.0"
  }
 },
 "nbformat": 4,
 "nbformat_minor": 5
}
